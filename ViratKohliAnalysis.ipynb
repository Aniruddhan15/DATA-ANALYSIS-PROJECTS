{
  "nbformat": 4,
  "nbformat_minor": 0,
  "metadata": {
    "colab": {
      "provenance": []
    },
    "kernelspec": {
      "name": "python3",
      "display_name": "Python 3"
    },
    "language_info": {
      "name": "python"
    }
  },
  "cells": [
    {
      "cell_type": "markdown",
      "source": [
        "Virat Kohli Performance Analysis"
      ],
      "metadata": {
        "id": "Ts_pg48wflku"
      }
    },
    {
      "cell_type": "code",
      "execution_count": 1,
      "metadata": {
        "id": "z_FW86pce0HY"
      },
      "outputs": [],
      "source": [
        "import pandas as pd\n",
        "import numpy as np\n",
        "import matplotlib.pyplot as plt\n",
        "import seaborn as sns"
      ]
    },
    {
      "cell_type": "code",
      "source": [
        "df=pd.read_csv('/content/Virat_Kohli_ODI.csv')"
      ],
      "metadata": {
        "id": "gorsfb2TfkGM"
      },
      "execution_count": 2,
      "outputs": []
    },
    {
      "cell_type": "code",
      "source": [
        "df.head(10)"
      ],
      "metadata": {
        "colab": {
          "base_uri": "https://localhost:8080/",
          "height": 747
        },
        "id": "ie_VriQFf1Yp",
        "outputId": "4354f12d-b7f5-4199-f3a4-0af18ba552bd"
      },
      "execution_count": 3,
      "outputs": [
        {
          "output_type": "execute_result",
          "data": {
            "text/plain": [
              "  Runs Mins  BF  4s  6s     SR  Pos Dismissal  Inns   Opposition  \\\n",
              "0   12   33  22   1   0  54.54    2       lbw     1  v Sri Lanka   \n",
              "1   37   82  67   6   0  55.22    2    caught     2  v Sri Lanka   \n",
              "2   25   40  38   4   0  65.78    1   run out     1  v Sri Lanka   \n",
              "3   54   87  66   7   0  81.81    1    bowled     1  v Sri Lanka   \n",
              "4   31   45  46   3   1  67.39    1       lbw     2  v Sri Lanka   \n",
              "5   2*    6   2   0   0    100    7   not out     1  v Sri Lanka   \n",
              "6   30   53  41   3   0  73.17    4    caught     2  v Australia   \n",
              "7   10   32  16   1   0   62.5    3    caught     2  v Australia   \n",
              "8   27   20  19   4   0  142.1    7    bowled     1  v Sri Lanka   \n",
              "9   54   93  65   7   0  83.07    4       lbw     1  v Sri Lanka   \n",
              "\n",
              "          Ground Start Date  \n",
              "0       Dambulla  18-Aug-08  \n",
              "1       Dambulla  20-Aug-08  \n",
              "2  Colombo (RPS)  24-Aug-08  \n",
              "3  Colombo (RPS)  27-Aug-08  \n",
              "4  Colombo (RPS)  29-Aug-08  \n",
              "5  Colombo (RPS)  14-Sep-09  \n",
              "6       Vadodara  25-Oct-09  \n",
              "7         Mohali   2-Nov-09  \n",
              "8         Rajkot  15-Dec-09  \n",
              "9         Nagpur  18-Dec-09  "
            ],
            "text/html": [
              "\n",
              "  <div id=\"df-b152ae50-a300-4b4b-9621-8c26e4de1f46\" class=\"colab-df-container\">\n",
              "    <div>\n",
              "<style scoped>\n",
              "    .dataframe tbody tr th:only-of-type {\n",
              "        vertical-align: middle;\n",
              "    }\n",
              "\n",
              "    .dataframe tbody tr th {\n",
              "        vertical-align: top;\n",
              "    }\n",
              "\n",
              "    .dataframe thead th {\n",
              "        text-align: right;\n",
              "    }\n",
              "</style>\n",
              "<table border=\"1\" class=\"dataframe\">\n",
              "  <thead>\n",
              "    <tr style=\"text-align: right;\">\n",
              "      <th></th>\n",
              "      <th>Runs</th>\n",
              "      <th>Mins</th>\n",
              "      <th>BF</th>\n",
              "      <th>4s</th>\n",
              "      <th>6s</th>\n",
              "      <th>SR</th>\n",
              "      <th>Pos</th>\n",
              "      <th>Dismissal</th>\n",
              "      <th>Inns</th>\n",
              "      <th>Opposition</th>\n",
              "      <th>Ground</th>\n",
              "      <th>Start Date</th>\n",
              "    </tr>\n",
              "  </thead>\n",
              "  <tbody>\n",
              "    <tr>\n",
              "      <th>0</th>\n",
              "      <td>12</td>\n",
              "      <td>33</td>\n",
              "      <td>22</td>\n",
              "      <td>1</td>\n",
              "      <td>0</td>\n",
              "      <td>54.54</td>\n",
              "      <td>2</td>\n",
              "      <td>lbw</td>\n",
              "      <td>1</td>\n",
              "      <td>v Sri Lanka</td>\n",
              "      <td>Dambulla</td>\n",
              "      <td>18-Aug-08</td>\n",
              "    </tr>\n",
              "    <tr>\n",
              "      <th>1</th>\n",
              "      <td>37</td>\n",
              "      <td>82</td>\n",
              "      <td>67</td>\n",
              "      <td>6</td>\n",
              "      <td>0</td>\n",
              "      <td>55.22</td>\n",
              "      <td>2</td>\n",
              "      <td>caught</td>\n",
              "      <td>2</td>\n",
              "      <td>v Sri Lanka</td>\n",
              "      <td>Dambulla</td>\n",
              "      <td>20-Aug-08</td>\n",
              "    </tr>\n",
              "    <tr>\n",
              "      <th>2</th>\n",
              "      <td>25</td>\n",
              "      <td>40</td>\n",
              "      <td>38</td>\n",
              "      <td>4</td>\n",
              "      <td>0</td>\n",
              "      <td>65.78</td>\n",
              "      <td>1</td>\n",
              "      <td>run out</td>\n",
              "      <td>1</td>\n",
              "      <td>v Sri Lanka</td>\n",
              "      <td>Colombo (RPS)</td>\n",
              "      <td>24-Aug-08</td>\n",
              "    </tr>\n",
              "    <tr>\n",
              "      <th>3</th>\n",
              "      <td>54</td>\n",
              "      <td>87</td>\n",
              "      <td>66</td>\n",
              "      <td>7</td>\n",
              "      <td>0</td>\n",
              "      <td>81.81</td>\n",
              "      <td>1</td>\n",
              "      <td>bowled</td>\n",
              "      <td>1</td>\n",
              "      <td>v Sri Lanka</td>\n",
              "      <td>Colombo (RPS)</td>\n",
              "      <td>27-Aug-08</td>\n",
              "    </tr>\n",
              "    <tr>\n",
              "      <th>4</th>\n",
              "      <td>31</td>\n",
              "      <td>45</td>\n",
              "      <td>46</td>\n",
              "      <td>3</td>\n",
              "      <td>1</td>\n",
              "      <td>67.39</td>\n",
              "      <td>1</td>\n",
              "      <td>lbw</td>\n",
              "      <td>2</td>\n",
              "      <td>v Sri Lanka</td>\n",
              "      <td>Colombo (RPS)</td>\n",
              "      <td>29-Aug-08</td>\n",
              "    </tr>\n",
              "    <tr>\n",
              "      <th>5</th>\n",
              "      <td>2*</td>\n",
              "      <td>6</td>\n",
              "      <td>2</td>\n",
              "      <td>0</td>\n",
              "      <td>0</td>\n",
              "      <td>100</td>\n",
              "      <td>7</td>\n",
              "      <td>not out</td>\n",
              "      <td>1</td>\n",
              "      <td>v Sri Lanka</td>\n",
              "      <td>Colombo (RPS)</td>\n",
              "      <td>14-Sep-09</td>\n",
              "    </tr>\n",
              "    <tr>\n",
              "      <th>6</th>\n",
              "      <td>30</td>\n",
              "      <td>53</td>\n",
              "      <td>41</td>\n",
              "      <td>3</td>\n",
              "      <td>0</td>\n",
              "      <td>73.17</td>\n",
              "      <td>4</td>\n",
              "      <td>caught</td>\n",
              "      <td>2</td>\n",
              "      <td>v Australia</td>\n",
              "      <td>Vadodara</td>\n",
              "      <td>25-Oct-09</td>\n",
              "    </tr>\n",
              "    <tr>\n",
              "      <th>7</th>\n",
              "      <td>10</td>\n",
              "      <td>32</td>\n",
              "      <td>16</td>\n",
              "      <td>1</td>\n",
              "      <td>0</td>\n",
              "      <td>62.5</td>\n",
              "      <td>3</td>\n",
              "      <td>caught</td>\n",
              "      <td>2</td>\n",
              "      <td>v Australia</td>\n",
              "      <td>Mohali</td>\n",
              "      <td>2-Nov-09</td>\n",
              "    </tr>\n",
              "    <tr>\n",
              "      <th>8</th>\n",
              "      <td>27</td>\n",
              "      <td>20</td>\n",
              "      <td>19</td>\n",
              "      <td>4</td>\n",
              "      <td>0</td>\n",
              "      <td>142.1</td>\n",
              "      <td>7</td>\n",
              "      <td>bowled</td>\n",
              "      <td>1</td>\n",
              "      <td>v Sri Lanka</td>\n",
              "      <td>Rajkot</td>\n",
              "      <td>15-Dec-09</td>\n",
              "    </tr>\n",
              "    <tr>\n",
              "      <th>9</th>\n",
              "      <td>54</td>\n",
              "      <td>93</td>\n",
              "      <td>65</td>\n",
              "      <td>7</td>\n",
              "      <td>0</td>\n",
              "      <td>83.07</td>\n",
              "      <td>4</td>\n",
              "      <td>lbw</td>\n",
              "      <td>1</td>\n",
              "      <td>v Sri Lanka</td>\n",
              "      <td>Nagpur</td>\n",
              "      <td>18-Dec-09</td>\n",
              "    </tr>\n",
              "  </tbody>\n",
              "</table>\n",
              "</div>\n",
              "    <div class=\"colab-df-buttons\">\n",
              "\n",
              "  <div class=\"colab-df-container\">\n",
              "    <button class=\"colab-df-convert\" onclick=\"convertToInteractive('df-b152ae50-a300-4b4b-9621-8c26e4de1f46')\"\n",
              "            title=\"Convert this dataframe to an interactive table.\"\n",
              "            style=\"display:none;\">\n",
              "\n",
              "  <svg xmlns=\"http://www.w3.org/2000/svg\" height=\"24px\" viewBox=\"0 -960 960 960\">\n",
              "    <path d=\"M120-120v-720h720v720H120Zm60-500h600v-160H180v160Zm220 220h160v-160H400v160Zm0 220h160v-160H400v160ZM180-400h160v-160H180v160Zm440 0h160v-160H620v160ZM180-180h160v-160H180v160Zm440 0h160v-160H620v160Z\"/>\n",
              "  </svg>\n",
              "    </button>\n",
              "\n",
              "  <style>\n",
              "    .colab-df-container {\n",
              "      display:flex;\n",
              "      gap: 12px;\n",
              "    }\n",
              "\n",
              "    .colab-df-convert {\n",
              "      background-color: #E8F0FE;\n",
              "      border: none;\n",
              "      border-radius: 50%;\n",
              "      cursor: pointer;\n",
              "      display: none;\n",
              "      fill: #1967D2;\n",
              "      height: 32px;\n",
              "      padding: 0 0 0 0;\n",
              "      width: 32px;\n",
              "    }\n",
              "\n",
              "    .colab-df-convert:hover {\n",
              "      background-color: #E2EBFA;\n",
              "      box-shadow: 0px 1px 2px rgba(60, 64, 67, 0.3), 0px 1px 3px 1px rgba(60, 64, 67, 0.15);\n",
              "      fill: #174EA6;\n",
              "    }\n",
              "\n",
              "    .colab-df-buttons div {\n",
              "      margin-bottom: 4px;\n",
              "    }\n",
              "\n",
              "    [theme=dark] .colab-df-convert {\n",
              "      background-color: #3B4455;\n",
              "      fill: #D2E3FC;\n",
              "    }\n",
              "\n",
              "    [theme=dark] .colab-df-convert:hover {\n",
              "      background-color: #434B5C;\n",
              "      box-shadow: 0px 1px 3px 1px rgba(0, 0, 0, 0.15);\n",
              "      filter: drop-shadow(0px 1px 2px rgba(0, 0, 0, 0.3));\n",
              "      fill: #FFFFFF;\n",
              "    }\n",
              "  </style>\n",
              "\n",
              "    <script>\n",
              "      const buttonEl =\n",
              "        document.querySelector('#df-b152ae50-a300-4b4b-9621-8c26e4de1f46 button.colab-df-convert');\n",
              "      buttonEl.style.display =\n",
              "        google.colab.kernel.accessAllowed ? 'block' : 'none';\n",
              "\n",
              "      async function convertToInteractive(key) {\n",
              "        const element = document.querySelector('#df-b152ae50-a300-4b4b-9621-8c26e4de1f46');\n",
              "        const dataTable =\n",
              "          await google.colab.kernel.invokeFunction('convertToInteractive',\n",
              "                                                    [key], {});\n",
              "        if (!dataTable) return;\n",
              "\n",
              "        const docLinkHtml = 'Like what you see? Visit the ' +\n",
              "          '<a target=\"_blank\" href=https://colab.research.google.com/notebooks/data_table.ipynb>data table notebook</a>'\n",
              "          + ' to learn more about interactive tables.';\n",
              "        element.innerHTML = '';\n",
              "        dataTable['output_type'] = 'display_data';\n",
              "        await google.colab.output.renderOutput(dataTable, element);\n",
              "        const docLink = document.createElement('div');\n",
              "        docLink.innerHTML = docLinkHtml;\n",
              "        element.appendChild(docLink);\n",
              "      }\n",
              "    </script>\n",
              "  </div>\n",
              "\n",
              "\n",
              "<div id=\"df-971f49be-0e0e-4408-870e-c995e233c86e\">\n",
              "  <button class=\"colab-df-quickchart\" onclick=\"quickchart('df-971f49be-0e0e-4408-870e-c995e233c86e')\"\n",
              "            title=\"Suggest charts.\"\n",
              "            style=\"display:none;\">\n",
              "\n",
              "<svg xmlns=\"http://www.w3.org/2000/svg\" height=\"24px\"viewBox=\"0 0 24 24\"\n",
              "     width=\"24px\">\n",
              "    <g>\n",
              "        <path d=\"M19 3H5c-1.1 0-2 .9-2 2v14c0 1.1.9 2 2 2h14c1.1 0 2-.9 2-2V5c0-1.1-.9-2-2-2zM9 17H7v-7h2v7zm4 0h-2V7h2v10zm4 0h-2v-4h2v4z\"/>\n",
              "    </g>\n",
              "</svg>\n",
              "  </button>\n",
              "\n",
              "<style>\n",
              "  .colab-df-quickchart {\n",
              "      --bg-color: #E8F0FE;\n",
              "      --fill-color: #1967D2;\n",
              "      --hover-bg-color: #E2EBFA;\n",
              "      --hover-fill-color: #174EA6;\n",
              "      --disabled-fill-color: #AAA;\n",
              "      --disabled-bg-color: #DDD;\n",
              "  }\n",
              "\n",
              "  [theme=dark] .colab-df-quickchart {\n",
              "      --bg-color: #3B4455;\n",
              "      --fill-color: #D2E3FC;\n",
              "      --hover-bg-color: #434B5C;\n",
              "      --hover-fill-color: #FFFFFF;\n",
              "      --disabled-bg-color: #3B4455;\n",
              "      --disabled-fill-color: #666;\n",
              "  }\n",
              "\n",
              "  .colab-df-quickchart {\n",
              "    background-color: var(--bg-color);\n",
              "    border: none;\n",
              "    border-radius: 50%;\n",
              "    cursor: pointer;\n",
              "    display: none;\n",
              "    fill: var(--fill-color);\n",
              "    height: 32px;\n",
              "    padding: 0;\n",
              "    width: 32px;\n",
              "  }\n",
              "\n",
              "  .colab-df-quickchart:hover {\n",
              "    background-color: var(--hover-bg-color);\n",
              "    box-shadow: 0 1px 2px rgba(60, 64, 67, 0.3), 0 1px 3px 1px rgba(60, 64, 67, 0.15);\n",
              "    fill: var(--button-hover-fill-color);\n",
              "  }\n",
              "\n",
              "  .colab-df-quickchart-complete:disabled,\n",
              "  .colab-df-quickchart-complete:disabled:hover {\n",
              "    background-color: var(--disabled-bg-color);\n",
              "    fill: var(--disabled-fill-color);\n",
              "    box-shadow: none;\n",
              "  }\n",
              "\n",
              "  .colab-df-spinner {\n",
              "    border: 2px solid var(--fill-color);\n",
              "    border-color: transparent;\n",
              "    border-bottom-color: var(--fill-color);\n",
              "    animation:\n",
              "      spin 1s steps(1) infinite;\n",
              "  }\n",
              "\n",
              "  @keyframes spin {\n",
              "    0% {\n",
              "      border-color: transparent;\n",
              "      border-bottom-color: var(--fill-color);\n",
              "      border-left-color: var(--fill-color);\n",
              "    }\n",
              "    20% {\n",
              "      border-color: transparent;\n",
              "      border-left-color: var(--fill-color);\n",
              "      border-top-color: var(--fill-color);\n",
              "    }\n",
              "    30% {\n",
              "      border-color: transparent;\n",
              "      border-left-color: var(--fill-color);\n",
              "      border-top-color: var(--fill-color);\n",
              "      border-right-color: var(--fill-color);\n",
              "    }\n",
              "    40% {\n",
              "      border-color: transparent;\n",
              "      border-right-color: var(--fill-color);\n",
              "      border-top-color: var(--fill-color);\n",
              "    }\n",
              "    60% {\n",
              "      border-color: transparent;\n",
              "      border-right-color: var(--fill-color);\n",
              "    }\n",
              "    80% {\n",
              "      border-color: transparent;\n",
              "      border-right-color: var(--fill-color);\n",
              "      border-bottom-color: var(--fill-color);\n",
              "    }\n",
              "    90% {\n",
              "      border-color: transparent;\n",
              "      border-bottom-color: var(--fill-color);\n",
              "    }\n",
              "  }\n",
              "</style>\n",
              "\n",
              "  <script>\n",
              "    async function quickchart(key) {\n",
              "      const quickchartButtonEl =\n",
              "        document.querySelector('#' + key + ' button');\n",
              "      quickchartButtonEl.disabled = true;  // To prevent multiple clicks.\n",
              "      quickchartButtonEl.classList.add('colab-df-spinner');\n",
              "      try {\n",
              "        const charts = await google.colab.kernel.invokeFunction(\n",
              "            'suggestCharts', [key], {});\n",
              "      } catch (error) {\n",
              "        console.error('Error during call to suggestCharts:', error);\n",
              "      }\n",
              "      quickchartButtonEl.classList.remove('colab-df-spinner');\n",
              "      quickchartButtonEl.classList.add('colab-df-quickchart-complete');\n",
              "    }\n",
              "    (() => {\n",
              "      let quickchartButtonEl =\n",
              "        document.querySelector('#df-971f49be-0e0e-4408-870e-c995e233c86e button');\n",
              "      quickchartButtonEl.style.display =\n",
              "        google.colab.kernel.accessAllowed ? 'block' : 'none';\n",
              "    })();\n",
              "  </script>\n",
              "</div>\n",
              "    </div>\n",
              "  </div>\n"
            ]
          },
          "metadata": {},
          "execution_count": 3
        }
      ]
    },
    {
      "cell_type": "code",
      "source": [
        "df.info()"
      ],
      "metadata": {
        "colab": {
          "base_uri": "https://localhost:8080/"
        },
        "id": "l2y0WT_-f3cw",
        "outputId": "d66bceff-e0b2-407e-927c-19c83686e898"
      },
      "execution_count": 4,
      "outputs": [
        {
          "output_type": "stream",
          "name": "stdout",
          "text": [
            "<class 'pandas.core.frame.DataFrame'>\n",
            "RangeIndex: 132 entries, 0 to 131\n",
            "Data columns (total 12 columns):\n",
            " #   Column      Non-Null Count  Dtype \n",
            "---  ------      --------------  ----- \n",
            " 0   Runs        132 non-null    object\n",
            " 1   Mins        132 non-null    object\n",
            " 2   BF          132 non-null    int64 \n",
            " 3   4s          132 non-null    int64 \n",
            " 4   6s          132 non-null    int64 \n",
            " 5   SR          132 non-null    object\n",
            " 6   Pos         132 non-null    int64 \n",
            " 7   Dismissal   132 non-null    object\n",
            " 8   Inns        132 non-null    int64 \n",
            " 9   Opposition  132 non-null    object\n",
            " 10  Ground      132 non-null    object\n",
            " 11  Start Date  132 non-null    object\n",
            "dtypes: int64(5), object(7)\n",
            "memory usage: 12.5+ KB\n"
          ]
        }
      ]
    },
    {
      "cell_type": "code",
      "source": [
        "df['Opposition'].unique()"
      ],
      "metadata": {
        "colab": {
          "base_uri": "https://localhost:8080/"
        },
        "id": "si4Y2omsgP-c",
        "outputId": "69c3f62c-4b47-44c9-fd9e-f10e6100b5ba"
      },
      "execution_count": 5,
      "outputs": [
        {
          "output_type": "execute_result",
          "data": {
            "text/plain": [
              "array(['v Sri Lanka', 'v Australia', 'v Bangladesh', 'v South Africa',\n",
              "       'v Zimbabwe', 'v New Zealand', 'v Ireland', 'v Netherlands',\n",
              "       'v West Indies', 'v Pakistan', 'v England'], dtype=object)"
            ]
          },
          "metadata": {},
          "execution_count": 5
        }
      ]
    },
    {
      "cell_type": "code",
      "source": [
        "df['Opposition']=df['Opposition'].replace('v Sri Lanka','SL')"
      ],
      "metadata": {
        "id": "uw6gArfvf5U4"
      },
      "execution_count": 6,
      "outputs": []
    },
    {
      "cell_type": "code",
      "source": [
        "df['Opposition']=df['Opposition'].replace('v Australia','AUS')\n",
        "df['Opposition']=df['Opposition'].replace('v Bangladesh','BAN')\n",
        "df['Opposition']=df['Opposition'].replace('v South Africa','SA')\n",
        "df['Opposition']=df['Opposition'].replace('v Zimbabwe','ZIM')\n",
        "df['Opposition']=df['Opposition'].replace('v New Zealand','NZ')\n",
        "df['Opposition']=df['Opposition'].replace('v Ireland','IRE')\n",
        "df['Opposition']=df['Opposition'].replace('v Netherlands','NED')\n",
        "df['Opposition']=df['Opposition'].replace('v West Indies','WI')\n",
        "df['Opposition']=df['Opposition'].replace('v Pakistan','PAK')\n",
        "df['Opposition']=df['Opposition'].replace('v England','ENG')"
      ],
      "metadata": {
        "id": "HFkH9NoUgW9U"
      },
      "execution_count": 7,
      "outputs": []
    },
    {
      "cell_type": "code",
      "source": [
        "df.sample(10)"
      ],
      "metadata": {
        "colab": {
          "base_uri": "https://localhost:8080/",
          "height": 730
        },
        "id": "Q-tnn4Trg8R2",
        "outputId": "1786ac57-aaaa-4f83-c07d-2eb522a52435"
      },
      "execution_count": 10,
      "outputs": [
        {
          "output_type": "execute_result",
          "data": {
            "text/plain": [
              "     Runs Mins   BF  4s  6s      SR  Pos Dismissal  Inns Opposition  \\\n",
              "66   128*  187  119  12   1  107.56    3   not out     2         SL   \n",
              "127    45   64   51   2   1   88.23    3    caught     2         NZ   \n",
              "87     86  120   84   9   2  102.38    3    caught     2         WI   \n",
              "68      0    9    5   0   0       0    3    bowled     1        PAK   \n",
              "19      0    5    3   0   0       0    3    caught     2         SL   \n",
              "20     37   98   57   5   0   64.91    3    caught     2         SL   \n",
              "43     22   68   33   1   0   66.66    3   stumped     2         WI   \n",
              "33     34   82   53   3   0   64.15    4   run out     2        IRE   \n",
              "111     1    9    4   0   0      25    3    caught     2        BAN   \n",
              "69      6   12    9   1   0   66.66    3    caught     2        PAK   \n",
              "\n",
              "            Ground Start Date  \n",
              "66   Colombo (RPS)  31-Jul-12  \n",
              "127         Ranchi  26-Oct-16  \n",
              "87           Kochi  21-Nov-13  \n",
              "68         Chennai  30-Dec-12  \n",
              "19        Dambulla  16-Aug-10  \n",
              "20        Dambulla  28-Aug-10  \n",
              "43     North Sound  13-Jun-11  \n",
              "33       Bengaluru   6-Mar-11  \n",
              "111          Dhaka  18-Jun-15  \n",
              "69         Kolkata   3-Jan-13  "
            ],
            "text/html": [
              "\n",
              "  <div id=\"df-c28f052d-fd93-4c27-8fd2-b0085908cb12\" class=\"colab-df-container\">\n",
              "    <div>\n",
              "<style scoped>\n",
              "    .dataframe tbody tr th:only-of-type {\n",
              "        vertical-align: middle;\n",
              "    }\n",
              "\n",
              "    .dataframe tbody tr th {\n",
              "        vertical-align: top;\n",
              "    }\n",
              "\n",
              "    .dataframe thead th {\n",
              "        text-align: right;\n",
              "    }\n",
              "</style>\n",
              "<table border=\"1\" class=\"dataframe\">\n",
              "  <thead>\n",
              "    <tr style=\"text-align: right;\">\n",
              "      <th></th>\n",
              "      <th>Runs</th>\n",
              "      <th>Mins</th>\n",
              "      <th>BF</th>\n",
              "      <th>4s</th>\n",
              "      <th>6s</th>\n",
              "      <th>SR</th>\n",
              "      <th>Pos</th>\n",
              "      <th>Dismissal</th>\n",
              "      <th>Inns</th>\n",
              "      <th>Opposition</th>\n",
              "      <th>Ground</th>\n",
              "      <th>Start Date</th>\n",
              "    </tr>\n",
              "  </thead>\n",
              "  <tbody>\n",
              "    <tr>\n",
              "      <th>66</th>\n",
              "      <td>128*</td>\n",
              "      <td>187</td>\n",
              "      <td>119</td>\n",
              "      <td>12</td>\n",
              "      <td>1</td>\n",
              "      <td>107.56</td>\n",
              "      <td>3</td>\n",
              "      <td>not out</td>\n",
              "      <td>2</td>\n",
              "      <td>SL</td>\n",
              "      <td>Colombo (RPS)</td>\n",
              "      <td>31-Jul-12</td>\n",
              "    </tr>\n",
              "    <tr>\n",
              "      <th>127</th>\n",
              "      <td>45</td>\n",
              "      <td>64</td>\n",
              "      <td>51</td>\n",
              "      <td>2</td>\n",
              "      <td>1</td>\n",
              "      <td>88.23</td>\n",
              "      <td>3</td>\n",
              "      <td>caught</td>\n",
              "      <td>2</td>\n",
              "      <td>NZ</td>\n",
              "      <td>Ranchi</td>\n",
              "      <td>26-Oct-16</td>\n",
              "    </tr>\n",
              "    <tr>\n",
              "      <th>87</th>\n",
              "      <td>86</td>\n",
              "      <td>120</td>\n",
              "      <td>84</td>\n",
              "      <td>9</td>\n",
              "      <td>2</td>\n",
              "      <td>102.38</td>\n",
              "      <td>3</td>\n",
              "      <td>caught</td>\n",
              "      <td>2</td>\n",
              "      <td>WI</td>\n",
              "      <td>Kochi</td>\n",
              "      <td>21-Nov-13</td>\n",
              "    </tr>\n",
              "    <tr>\n",
              "      <th>68</th>\n",
              "      <td>0</td>\n",
              "      <td>9</td>\n",
              "      <td>5</td>\n",
              "      <td>0</td>\n",
              "      <td>0</td>\n",
              "      <td>0</td>\n",
              "      <td>3</td>\n",
              "      <td>bowled</td>\n",
              "      <td>1</td>\n",
              "      <td>PAK</td>\n",
              "      <td>Chennai</td>\n",
              "      <td>30-Dec-12</td>\n",
              "    </tr>\n",
              "    <tr>\n",
              "      <th>19</th>\n",
              "      <td>0</td>\n",
              "      <td>5</td>\n",
              "      <td>3</td>\n",
              "      <td>0</td>\n",
              "      <td>0</td>\n",
              "      <td>0</td>\n",
              "      <td>3</td>\n",
              "      <td>caught</td>\n",
              "      <td>2</td>\n",
              "      <td>SL</td>\n",
              "      <td>Dambulla</td>\n",
              "      <td>16-Aug-10</td>\n",
              "    </tr>\n",
              "    <tr>\n",
              "      <th>20</th>\n",
              "      <td>37</td>\n",
              "      <td>98</td>\n",
              "      <td>57</td>\n",
              "      <td>5</td>\n",
              "      <td>0</td>\n",
              "      <td>64.91</td>\n",
              "      <td>3</td>\n",
              "      <td>caught</td>\n",
              "      <td>2</td>\n",
              "      <td>SL</td>\n",
              "      <td>Dambulla</td>\n",
              "      <td>28-Aug-10</td>\n",
              "    </tr>\n",
              "    <tr>\n",
              "      <th>43</th>\n",
              "      <td>22</td>\n",
              "      <td>68</td>\n",
              "      <td>33</td>\n",
              "      <td>1</td>\n",
              "      <td>0</td>\n",
              "      <td>66.66</td>\n",
              "      <td>3</td>\n",
              "      <td>stumped</td>\n",
              "      <td>2</td>\n",
              "      <td>WI</td>\n",
              "      <td>North Sound</td>\n",
              "      <td>13-Jun-11</td>\n",
              "    </tr>\n",
              "    <tr>\n",
              "      <th>33</th>\n",
              "      <td>34</td>\n",
              "      <td>82</td>\n",
              "      <td>53</td>\n",
              "      <td>3</td>\n",
              "      <td>0</td>\n",
              "      <td>64.15</td>\n",
              "      <td>4</td>\n",
              "      <td>run out</td>\n",
              "      <td>2</td>\n",
              "      <td>IRE</td>\n",
              "      <td>Bengaluru</td>\n",
              "      <td>6-Mar-11</td>\n",
              "    </tr>\n",
              "    <tr>\n",
              "      <th>111</th>\n",
              "      <td>1</td>\n",
              "      <td>9</td>\n",
              "      <td>4</td>\n",
              "      <td>0</td>\n",
              "      <td>0</td>\n",
              "      <td>25</td>\n",
              "      <td>3</td>\n",
              "      <td>caught</td>\n",
              "      <td>2</td>\n",
              "      <td>BAN</td>\n",
              "      <td>Dhaka</td>\n",
              "      <td>18-Jun-15</td>\n",
              "    </tr>\n",
              "    <tr>\n",
              "      <th>69</th>\n",
              "      <td>6</td>\n",
              "      <td>12</td>\n",
              "      <td>9</td>\n",
              "      <td>1</td>\n",
              "      <td>0</td>\n",
              "      <td>66.66</td>\n",
              "      <td>3</td>\n",
              "      <td>caught</td>\n",
              "      <td>2</td>\n",
              "      <td>PAK</td>\n",
              "      <td>Kolkata</td>\n",
              "      <td>3-Jan-13</td>\n",
              "    </tr>\n",
              "  </tbody>\n",
              "</table>\n",
              "</div>\n",
              "    <div class=\"colab-df-buttons\">\n",
              "\n",
              "  <div class=\"colab-df-container\">\n",
              "    <button class=\"colab-df-convert\" onclick=\"convertToInteractive('df-c28f052d-fd93-4c27-8fd2-b0085908cb12')\"\n",
              "            title=\"Convert this dataframe to an interactive table.\"\n",
              "            style=\"display:none;\">\n",
              "\n",
              "  <svg xmlns=\"http://www.w3.org/2000/svg\" height=\"24px\" viewBox=\"0 -960 960 960\">\n",
              "    <path d=\"M120-120v-720h720v720H120Zm60-500h600v-160H180v160Zm220 220h160v-160H400v160Zm0 220h160v-160H400v160ZM180-400h160v-160H180v160Zm440 0h160v-160H620v160ZM180-180h160v-160H180v160Zm440 0h160v-160H620v160Z\"/>\n",
              "  </svg>\n",
              "    </button>\n",
              "\n",
              "  <style>\n",
              "    .colab-df-container {\n",
              "      display:flex;\n",
              "      gap: 12px;\n",
              "    }\n",
              "\n",
              "    .colab-df-convert {\n",
              "      background-color: #E8F0FE;\n",
              "      border: none;\n",
              "      border-radius: 50%;\n",
              "      cursor: pointer;\n",
              "      display: none;\n",
              "      fill: #1967D2;\n",
              "      height: 32px;\n",
              "      padding: 0 0 0 0;\n",
              "      width: 32px;\n",
              "    }\n",
              "\n",
              "    .colab-df-convert:hover {\n",
              "      background-color: #E2EBFA;\n",
              "      box-shadow: 0px 1px 2px rgba(60, 64, 67, 0.3), 0px 1px 3px 1px rgba(60, 64, 67, 0.15);\n",
              "      fill: #174EA6;\n",
              "    }\n",
              "\n",
              "    .colab-df-buttons div {\n",
              "      margin-bottom: 4px;\n",
              "    }\n",
              "\n",
              "    [theme=dark] .colab-df-convert {\n",
              "      background-color: #3B4455;\n",
              "      fill: #D2E3FC;\n",
              "    }\n",
              "\n",
              "    [theme=dark] .colab-df-convert:hover {\n",
              "      background-color: #434B5C;\n",
              "      box-shadow: 0px 1px 3px 1px rgba(0, 0, 0, 0.15);\n",
              "      filter: drop-shadow(0px 1px 2px rgba(0, 0, 0, 0.3));\n",
              "      fill: #FFFFFF;\n",
              "    }\n",
              "  </style>\n",
              "\n",
              "    <script>\n",
              "      const buttonEl =\n",
              "        document.querySelector('#df-c28f052d-fd93-4c27-8fd2-b0085908cb12 button.colab-df-convert');\n",
              "      buttonEl.style.display =\n",
              "        google.colab.kernel.accessAllowed ? 'block' : 'none';\n",
              "\n",
              "      async function convertToInteractive(key) {\n",
              "        const element = document.querySelector('#df-c28f052d-fd93-4c27-8fd2-b0085908cb12');\n",
              "        const dataTable =\n",
              "          await google.colab.kernel.invokeFunction('convertToInteractive',\n",
              "                                                    [key], {});\n",
              "        if (!dataTable) return;\n",
              "\n",
              "        const docLinkHtml = 'Like what you see? Visit the ' +\n",
              "          '<a target=\"_blank\" href=https://colab.research.google.com/notebooks/data_table.ipynb>data table notebook</a>'\n",
              "          + ' to learn more about interactive tables.';\n",
              "        element.innerHTML = '';\n",
              "        dataTable['output_type'] = 'display_data';\n",
              "        await google.colab.output.renderOutput(dataTable, element);\n",
              "        const docLink = document.createElement('div');\n",
              "        docLink.innerHTML = docLinkHtml;\n",
              "        element.appendChild(docLink);\n",
              "      }\n",
              "    </script>\n",
              "  </div>\n",
              "\n",
              "\n",
              "<div id=\"df-2319e47e-07be-4ff6-b91d-55bf6957c3ab\">\n",
              "  <button class=\"colab-df-quickchart\" onclick=\"quickchart('df-2319e47e-07be-4ff6-b91d-55bf6957c3ab')\"\n",
              "            title=\"Suggest charts.\"\n",
              "            style=\"display:none;\">\n",
              "\n",
              "<svg xmlns=\"http://www.w3.org/2000/svg\" height=\"24px\"viewBox=\"0 0 24 24\"\n",
              "     width=\"24px\">\n",
              "    <g>\n",
              "        <path d=\"M19 3H5c-1.1 0-2 .9-2 2v14c0 1.1.9 2 2 2h14c1.1 0 2-.9 2-2V5c0-1.1-.9-2-2-2zM9 17H7v-7h2v7zm4 0h-2V7h2v10zm4 0h-2v-4h2v4z\"/>\n",
              "    </g>\n",
              "</svg>\n",
              "  </button>\n",
              "\n",
              "<style>\n",
              "  .colab-df-quickchart {\n",
              "      --bg-color: #E8F0FE;\n",
              "      --fill-color: #1967D2;\n",
              "      --hover-bg-color: #E2EBFA;\n",
              "      --hover-fill-color: #174EA6;\n",
              "      --disabled-fill-color: #AAA;\n",
              "      --disabled-bg-color: #DDD;\n",
              "  }\n",
              "\n",
              "  [theme=dark] .colab-df-quickchart {\n",
              "      --bg-color: #3B4455;\n",
              "      --fill-color: #D2E3FC;\n",
              "      --hover-bg-color: #434B5C;\n",
              "      --hover-fill-color: #FFFFFF;\n",
              "      --disabled-bg-color: #3B4455;\n",
              "      --disabled-fill-color: #666;\n",
              "  }\n",
              "\n",
              "  .colab-df-quickchart {\n",
              "    background-color: var(--bg-color);\n",
              "    border: none;\n",
              "    border-radius: 50%;\n",
              "    cursor: pointer;\n",
              "    display: none;\n",
              "    fill: var(--fill-color);\n",
              "    height: 32px;\n",
              "    padding: 0;\n",
              "    width: 32px;\n",
              "  }\n",
              "\n",
              "  .colab-df-quickchart:hover {\n",
              "    background-color: var(--hover-bg-color);\n",
              "    box-shadow: 0 1px 2px rgba(60, 64, 67, 0.3), 0 1px 3px 1px rgba(60, 64, 67, 0.15);\n",
              "    fill: var(--button-hover-fill-color);\n",
              "  }\n",
              "\n",
              "  .colab-df-quickchart-complete:disabled,\n",
              "  .colab-df-quickchart-complete:disabled:hover {\n",
              "    background-color: var(--disabled-bg-color);\n",
              "    fill: var(--disabled-fill-color);\n",
              "    box-shadow: none;\n",
              "  }\n",
              "\n",
              "  .colab-df-spinner {\n",
              "    border: 2px solid var(--fill-color);\n",
              "    border-color: transparent;\n",
              "    border-bottom-color: var(--fill-color);\n",
              "    animation:\n",
              "      spin 1s steps(1) infinite;\n",
              "  }\n",
              "\n",
              "  @keyframes spin {\n",
              "    0% {\n",
              "      border-color: transparent;\n",
              "      border-bottom-color: var(--fill-color);\n",
              "      border-left-color: var(--fill-color);\n",
              "    }\n",
              "    20% {\n",
              "      border-color: transparent;\n",
              "      border-left-color: var(--fill-color);\n",
              "      border-top-color: var(--fill-color);\n",
              "    }\n",
              "    30% {\n",
              "      border-color: transparent;\n",
              "      border-left-color: var(--fill-color);\n",
              "      border-top-color: var(--fill-color);\n",
              "      border-right-color: var(--fill-color);\n",
              "    }\n",
              "    40% {\n",
              "      border-color: transparent;\n",
              "      border-right-color: var(--fill-color);\n",
              "      border-top-color: var(--fill-color);\n",
              "    }\n",
              "    60% {\n",
              "      border-color: transparent;\n",
              "      border-right-color: var(--fill-color);\n",
              "    }\n",
              "    80% {\n",
              "      border-color: transparent;\n",
              "      border-right-color: var(--fill-color);\n",
              "      border-bottom-color: var(--fill-color);\n",
              "    }\n",
              "    90% {\n",
              "      border-color: transparent;\n",
              "      border-bottom-color: var(--fill-color);\n",
              "    }\n",
              "  }\n",
              "</style>\n",
              "\n",
              "  <script>\n",
              "    async function quickchart(key) {\n",
              "      const quickchartButtonEl =\n",
              "        document.querySelector('#' + key + ' button');\n",
              "      quickchartButtonEl.disabled = true;  // To prevent multiple clicks.\n",
              "      quickchartButtonEl.classList.add('colab-df-spinner');\n",
              "      try {\n",
              "        const charts = await google.colab.kernel.invokeFunction(\n",
              "            'suggestCharts', [key], {});\n",
              "      } catch (error) {\n",
              "        console.error('Error during call to suggestCharts:', error);\n",
              "      }\n",
              "      quickchartButtonEl.classList.remove('colab-df-spinner');\n",
              "      quickchartButtonEl.classList.add('colab-df-quickchart-complete');\n",
              "    }\n",
              "    (() => {\n",
              "      let quickchartButtonEl =\n",
              "        document.querySelector('#df-2319e47e-07be-4ff6-b91d-55bf6957c3ab button');\n",
              "      quickchartButtonEl.style.display =\n",
              "        google.colab.kernel.accessAllowed ? 'block' : 'none';\n",
              "    })();\n",
              "  </script>\n",
              "</div>\n",
              "    </div>\n",
              "  </div>\n"
            ]
          },
          "metadata": {},
          "execution_count": 10
        }
      ]
    },
    {
      "cell_type": "code",
      "source": [
        "df.isnull().sum()"
      ],
      "metadata": {
        "colab": {
          "base_uri": "https://localhost:8080/"
        },
        "id": "hQYqzOfjg9ze",
        "outputId": "c57739e8-9cf2-4d3f-e3b0-82f61216d86a"
      },
      "execution_count": 11,
      "outputs": [
        {
          "output_type": "execute_result",
          "data": {
            "text/plain": [
              "Runs          0\n",
              "Mins          0\n",
              "BF            0\n",
              "4s            0\n",
              "6s            0\n",
              "SR            0\n",
              "Pos           0\n",
              "Dismissal     0\n",
              "Inns          0\n",
              "Opposition    0\n",
              "Ground        0\n",
              "Start Date    0\n",
              "dtype: int64"
            ]
          },
          "metadata": {},
          "execution_count": 11
        }
      ]
    },
    {
      "cell_type": "code",
      "source": [
        "df.duplicated().sum()"
      ],
      "metadata": {
        "colab": {
          "base_uri": "https://localhost:8080/"
        },
        "id": "3r8aMcdWhQjJ",
        "outputId": "3d5ffa7a-ae34-4d40-f37a-430625dc7eb8"
      },
      "execution_count": 13,
      "outputs": [
        {
          "output_type": "execute_result",
          "data": {
            "text/plain": [
              "0"
            ]
          },
          "metadata": {},
          "execution_count": 13
        }
      ]
    },
    {
      "cell_type": "markdown",
      "source": [
        "Data Visualisation"
      ],
      "metadata": {
        "id": "IfPdySY0hWCM"
      }
    },
    {
      "cell_type": "code",
      "source": [
        "df.info()"
      ],
      "metadata": {
        "colab": {
          "base_uri": "https://localhost:8080/"
        },
        "id": "3tbWjC3AhYpx",
        "outputId": "2de59d33-f580-4f20-c70a-34aa763d0538"
      },
      "execution_count": 15,
      "outputs": [
        {
          "output_type": "stream",
          "name": "stdout",
          "text": [
            "<class 'pandas.core.frame.DataFrame'>\n",
            "RangeIndex: 132 entries, 0 to 131\n",
            "Data columns (total 12 columns):\n",
            " #   Column      Non-Null Count  Dtype \n",
            "---  ------      --------------  ----- \n",
            " 0   Runs        132 non-null    object\n",
            " 1   Mins        132 non-null    object\n",
            " 2   BF          132 non-null    int64 \n",
            " 3   4s          132 non-null    int64 \n",
            " 4   6s          132 non-null    int64 \n",
            " 5   SR          132 non-null    object\n",
            " 6   Pos         132 non-null    int64 \n",
            " 7   Dismissal   132 non-null    object\n",
            " 8   Inns        132 non-null    int64 \n",
            " 9   Opposition  132 non-null    object\n",
            " 10  Ground      132 non-null    object\n",
            " 11  Start Date  132 non-null    object\n",
            "dtypes: int64(5), object(7)\n",
            "memory usage: 12.5+ KB\n"
          ]
        }
      ]
    },
    {
      "cell_type": "code",
      "source": [
        "df.shape"
      ],
      "metadata": {
        "colab": {
          "base_uri": "https://localhost:8080/"
        },
        "id": "W00AFBoVmAGy",
        "outputId": "a7686ff1-3074-4118-d54f-7630f9f63e47"
      },
      "execution_count": 44,
      "outputs": [
        {
          "output_type": "execute_result",
          "data": {
            "text/plain": [
              "(132, 12)"
            ]
          },
          "metadata": {},
          "execution_count": 44
        }
      ]
    },
    {
      "cell_type": "code",
      "source": [
        "df.head()"
      ],
      "metadata": {
        "colab": {
          "base_uri": "https://localhost:8080/",
          "height": 397
        },
        "id": "xPPbXCVnhS_b",
        "outputId": "710329c2-bbaa-47fa-8cda-3a9191be0569"
      },
      "execution_count": 14,
      "outputs": [
        {
          "output_type": "execute_result",
          "data": {
            "text/plain": [
              "  Runs Mins  BF  4s  6s     SR  Pos Dismissal  Inns Opposition         Ground  \\\n",
              "0   12   33  22   1   0  54.54    2       lbw     1         SL       Dambulla   \n",
              "1   37   82  67   6   0  55.22    2    caught     2         SL       Dambulla   \n",
              "2   25   40  38   4   0  65.78    1   run out     1         SL  Colombo (RPS)   \n",
              "3   54   87  66   7   0  81.81    1    bowled     1         SL  Colombo (RPS)   \n",
              "4   31   45  46   3   1  67.39    1       lbw     2         SL  Colombo (RPS)   \n",
              "\n",
              "  Start Date  \n",
              "0  18-Aug-08  \n",
              "1  20-Aug-08  \n",
              "2  24-Aug-08  \n",
              "3  27-Aug-08  \n",
              "4  29-Aug-08  "
            ],
            "text/html": [
              "\n",
              "  <div id=\"df-a51397c2-08f3-439c-ba1c-76ca5bb54e4b\" class=\"colab-df-container\">\n",
              "    <div>\n",
              "<style scoped>\n",
              "    .dataframe tbody tr th:only-of-type {\n",
              "        vertical-align: middle;\n",
              "    }\n",
              "\n",
              "    .dataframe tbody tr th {\n",
              "        vertical-align: top;\n",
              "    }\n",
              "\n",
              "    .dataframe thead th {\n",
              "        text-align: right;\n",
              "    }\n",
              "</style>\n",
              "<table border=\"1\" class=\"dataframe\">\n",
              "  <thead>\n",
              "    <tr style=\"text-align: right;\">\n",
              "      <th></th>\n",
              "      <th>Runs</th>\n",
              "      <th>Mins</th>\n",
              "      <th>BF</th>\n",
              "      <th>4s</th>\n",
              "      <th>6s</th>\n",
              "      <th>SR</th>\n",
              "      <th>Pos</th>\n",
              "      <th>Dismissal</th>\n",
              "      <th>Inns</th>\n",
              "      <th>Opposition</th>\n",
              "      <th>Ground</th>\n",
              "      <th>Start Date</th>\n",
              "    </tr>\n",
              "  </thead>\n",
              "  <tbody>\n",
              "    <tr>\n",
              "      <th>0</th>\n",
              "      <td>12</td>\n",
              "      <td>33</td>\n",
              "      <td>22</td>\n",
              "      <td>1</td>\n",
              "      <td>0</td>\n",
              "      <td>54.54</td>\n",
              "      <td>2</td>\n",
              "      <td>lbw</td>\n",
              "      <td>1</td>\n",
              "      <td>SL</td>\n",
              "      <td>Dambulla</td>\n",
              "      <td>18-Aug-08</td>\n",
              "    </tr>\n",
              "    <tr>\n",
              "      <th>1</th>\n",
              "      <td>37</td>\n",
              "      <td>82</td>\n",
              "      <td>67</td>\n",
              "      <td>6</td>\n",
              "      <td>0</td>\n",
              "      <td>55.22</td>\n",
              "      <td>2</td>\n",
              "      <td>caught</td>\n",
              "      <td>2</td>\n",
              "      <td>SL</td>\n",
              "      <td>Dambulla</td>\n",
              "      <td>20-Aug-08</td>\n",
              "    </tr>\n",
              "    <tr>\n",
              "      <th>2</th>\n",
              "      <td>25</td>\n",
              "      <td>40</td>\n",
              "      <td>38</td>\n",
              "      <td>4</td>\n",
              "      <td>0</td>\n",
              "      <td>65.78</td>\n",
              "      <td>1</td>\n",
              "      <td>run out</td>\n",
              "      <td>1</td>\n",
              "      <td>SL</td>\n",
              "      <td>Colombo (RPS)</td>\n",
              "      <td>24-Aug-08</td>\n",
              "    </tr>\n",
              "    <tr>\n",
              "      <th>3</th>\n",
              "      <td>54</td>\n",
              "      <td>87</td>\n",
              "      <td>66</td>\n",
              "      <td>7</td>\n",
              "      <td>0</td>\n",
              "      <td>81.81</td>\n",
              "      <td>1</td>\n",
              "      <td>bowled</td>\n",
              "      <td>1</td>\n",
              "      <td>SL</td>\n",
              "      <td>Colombo (RPS)</td>\n",
              "      <td>27-Aug-08</td>\n",
              "    </tr>\n",
              "    <tr>\n",
              "      <th>4</th>\n",
              "      <td>31</td>\n",
              "      <td>45</td>\n",
              "      <td>46</td>\n",
              "      <td>3</td>\n",
              "      <td>1</td>\n",
              "      <td>67.39</td>\n",
              "      <td>1</td>\n",
              "      <td>lbw</td>\n",
              "      <td>2</td>\n",
              "      <td>SL</td>\n",
              "      <td>Colombo (RPS)</td>\n",
              "      <td>29-Aug-08</td>\n",
              "    </tr>\n",
              "  </tbody>\n",
              "</table>\n",
              "</div>\n",
              "    <div class=\"colab-df-buttons\">\n",
              "\n",
              "  <div class=\"colab-df-container\">\n",
              "    <button class=\"colab-df-convert\" onclick=\"convertToInteractive('df-a51397c2-08f3-439c-ba1c-76ca5bb54e4b')\"\n",
              "            title=\"Convert this dataframe to an interactive table.\"\n",
              "            style=\"display:none;\">\n",
              "\n",
              "  <svg xmlns=\"http://www.w3.org/2000/svg\" height=\"24px\" viewBox=\"0 -960 960 960\">\n",
              "    <path d=\"M120-120v-720h720v720H120Zm60-500h600v-160H180v160Zm220 220h160v-160H400v160Zm0 220h160v-160H400v160ZM180-400h160v-160H180v160Zm440 0h160v-160H620v160ZM180-180h160v-160H180v160Zm440 0h160v-160H620v160Z\"/>\n",
              "  </svg>\n",
              "    </button>\n",
              "\n",
              "  <style>\n",
              "    .colab-df-container {\n",
              "      display:flex;\n",
              "      gap: 12px;\n",
              "    }\n",
              "\n",
              "    .colab-df-convert {\n",
              "      background-color: #E8F0FE;\n",
              "      border: none;\n",
              "      border-radius: 50%;\n",
              "      cursor: pointer;\n",
              "      display: none;\n",
              "      fill: #1967D2;\n",
              "      height: 32px;\n",
              "      padding: 0 0 0 0;\n",
              "      width: 32px;\n",
              "    }\n",
              "\n",
              "    .colab-df-convert:hover {\n",
              "      background-color: #E2EBFA;\n",
              "      box-shadow: 0px 1px 2px rgba(60, 64, 67, 0.3), 0px 1px 3px 1px rgba(60, 64, 67, 0.15);\n",
              "      fill: #174EA6;\n",
              "    }\n",
              "\n",
              "    .colab-df-buttons div {\n",
              "      margin-bottom: 4px;\n",
              "    }\n",
              "\n",
              "    [theme=dark] .colab-df-convert {\n",
              "      background-color: #3B4455;\n",
              "      fill: #D2E3FC;\n",
              "    }\n",
              "\n",
              "    [theme=dark] .colab-df-convert:hover {\n",
              "      background-color: #434B5C;\n",
              "      box-shadow: 0px 1px 3px 1px rgba(0, 0, 0, 0.15);\n",
              "      filter: drop-shadow(0px 1px 2px rgba(0, 0, 0, 0.3));\n",
              "      fill: #FFFFFF;\n",
              "    }\n",
              "  </style>\n",
              "\n",
              "    <script>\n",
              "      const buttonEl =\n",
              "        document.querySelector('#df-a51397c2-08f3-439c-ba1c-76ca5bb54e4b button.colab-df-convert');\n",
              "      buttonEl.style.display =\n",
              "        google.colab.kernel.accessAllowed ? 'block' : 'none';\n",
              "\n",
              "      async function convertToInteractive(key) {\n",
              "        const element = document.querySelector('#df-a51397c2-08f3-439c-ba1c-76ca5bb54e4b');\n",
              "        const dataTable =\n",
              "          await google.colab.kernel.invokeFunction('convertToInteractive',\n",
              "                                                    [key], {});\n",
              "        if (!dataTable) return;\n",
              "\n",
              "        const docLinkHtml = 'Like what you see? Visit the ' +\n",
              "          '<a target=\"_blank\" href=https://colab.research.google.com/notebooks/data_table.ipynb>data table notebook</a>'\n",
              "          + ' to learn more about interactive tables.';\n",
              "        element.innerHTML = '';\n",
              "        dataTable['output_type'] = 'display_data';\n",
              "        await google.colab.output.renderOutput(dataTable, element);\n",
              "        const docLink = document.createElement('div');\n",
              "        docLink.innerHTML = docLinkHtml;\n",
              "        element.appendChild(docLink);\n",
              "      }\n",
              "    </script>\n",
              "  </div>\n",
              "\n",
              "\n",
              "<div id=\"df-ef9f1f4f-32b3-4c69-ab23-f3e4dbf09451\">\n",
              "  <button class=\"colab-df-quickchart\" onclick=\"quickchart('df-ef9f1f4f-32b3-4c69-ab23-f3e4dbf09451')\"\n",
              "            title=\"Suggest charts.\"\n",
              "            style=\"display:none;\">\n",
              "\n",
              "<svg xmlns=\"http://www.w3.org/2000/svg\" height=\"24px\"viewBox=\"0 0 24 24\"\n",
              "     width=\"24px\">\n",
              "    <g>\n",
              "        <path d=\"M19 3H5c-1.1 0-2 .9-2 2v14c0 1.1.9 2 2 2h14c1.1 0 2-.9 2-2V5c0-1.1-.9-2-2-2zM9 17H7v-7h2v7zm4 0h-2V7h2v10zm4 0h-2v-4h2v4z\"/>\n",
              "    </g>\n",
              "</svg>\n",
              "  </button>\n",
              "\n",
              "<style>\n",
              "  .colab-df-quickchart {\n",
              "      --bg-color: #E8F0FE;\n",
              "      --fill-color: #1967D2;\n",
              "      --hover-bg-color: #E2EBFA;\n",
              "      --hover-fill-color: #174EA6;\n",
              "      --disabled-fill-color: #AAA;\n",
              "      --disabled-bg-color: #DDD;\n",
              "  }\n",
              "\n",
              "  [theme=dark] .colab-df-quickchart {\n",
              "      --bg-color: #3B4455;\n",
              "      --fill-color: #D2E3FC;\n",
              "      --hover-bg-color: #434B5C;\n",
              "      --hover-fill-color: #FFFFFF;\n",
              "      --disabled-bg-color: #3B4455;\n",
              "      --disabled-fill-color: #666;\n",
              "  }\n",
              "\n",
              "  .colab-df-quickchart {\n",
              "    background-color: var(--bg-color);\n",
              "    border: none;\n",
              "    border-radius: 50%;\n",
              "    cursor: pointer;\n",
              "    display: none;\n",
              "    fill: var(--fill-color);\n",
              "    height: 32px;\n",
              "    padding: 0;\n",
              "    width: 32px;\n",
              "  }\n",
              "\n",
              "  .colab-df-quickchart:hover {\n",
              "    background-color: var(--hover-bg-color);\n",
              "    box-shadow: 0 1px 2px rgba(60, 64, 67, 0.3), 0 1px 3px 1px rgba(60, 64, 67, 0.15);\n",
              "    fill: var(--button-hover-fill-color);\n",
              "  }\n",
              "\n",
              "  .colab-df-quickchart-complete:disabled,\n",
              "  .colab-df-quickchart-complete:disabled:hover {\n",
              "    background-color: var(--disabled-bg-color);\n",
              "    fill: var(--disabled-fill-color);\n",
              "    box-shadow: none;\n",
              "  }\n",
              "\n",
              "  .colab-df-spinner {\n",
              "    border: 2px solid var(--fill-color);\n",
              "    border-color: transparent;\n",
              "    border-bottom-color: var(--fill-color);\n",
              "    animation:\n",
              "      spin 1s steps(1) infinite;\n",
              "  }\n",
              "\n",
              "  @keyframes spin {\n",
              "    0% {\n",
              "      border-color: transparent;\n",
              "      border-bottom-color: var(--fill-color);\n",
              "      border-left-color: var(--fill-color);\n",
              "    }\n",
              "    20% {\n",
              "      border-color: transparent;\n",
              "      border-left-color: var(--fill-color);\n",
              "      border-top-color: var(--fill-color);\n",
              "    }\n",
              "    30% {\n",
              "      border-color: transparent;\n",
              "      border-left-color: var(--fill-color);\n",
              "      border-top-color: var(--fill-color);\n",
              "      border-right-color: var(--fill-color);\n",
              "    }\n",
              "    40% {\n",
              "      border-color: transparent;\n",
              "      border-right-color: var(--fill-color);\n",
              "      border-top-color: var(--fill-color);\n",
              "    }\n",
              "    60% {\n",
              "      border-color: transparent;\n",
              "      border-right-color: var(--fill-color);\n",
              "    }\n",
              "    80% {\n",
              "      border-color: transparent;\n",
              "      border-right-color: var(--fill-color);\n",
              "      border-bottom-color: var(--fill-color);\n",
              "    }\n",
              "    90% {\n",
              "      border-color: transparent;\n",
              "      border-bottom-color: var(--fill-color);\n",
              "    }\n",
              "  }\n",
              "</style>\n",
              "\n",
              "  <script>\n",
              "    async function quickchart(key) {\n",
              "      const quickchartButtonEl =\n",
              "        document.querySelector('#' + key + ' button');\n",
              "      quickchartButtonEl.disabled = true;  // To prevent multiple clicks.\n",
              "      quickchartButtonEl.classList.add('colab-df-spinner');\n",
              "      try {\n",
              "        const charts = await google.colab.kernel.invokeFunction(\n",
              "            'suggestCharts', [key], {});\n",
              "      } catch (error) {\n",
              "        console.error('Error during call to suggestCharts:', error);\n",
              "      }\n",
              "      quickchartButtonEl.classList.remove('colab-df-spinner');\n",
              "      quickchartButtonEl.classList.add('colab-df-quickchart-complete');\n",
              "    }\n",
              "    (() => {\n",
              "      let quickchartButtonEl =\n",
              "        document.querySelector('#df-ef9f1f4f-32b3-4c69-ab23-f3e4dbf09451 button');\n",
              "      quickchartButtonEl.style.display =\n",
              "        google.colab.kernel.accessAllowed ? 'block' : 'none';\n",
              "    })();\n",
              "  </script>\n",
              "</div>\n",
              "    </div>\n",
              "  </div>\n"
            ]
          },
          "metadata": {},
          "execution_count": 14
        }
      ]
    },
    {
      "cell_type": "code",
      "source": [
        "sns.countplot(x='Dismissal',data=df)"
      ],
      "metadata": {
        "colab": {
          "base_uri": "https://localhost:8080/",
          "height": 466
        },
        "id": "KRqEy6vnhZWR",
        "outputId": "70d6e248-7ddf-4de2-85c3-7aebc8956651"
      },
      "execution_count": 16,
      "outputs": [
        {
          "output_type": "execute_result",
          "data": {
            "text/plain": [
              "<Axes: xlabel='Dismissal', ylabel='count'>"
            ]
          },
          "metadata": {},
          "execution_count": 16
        },
        {
          "output_type": "display_data",
          "data": {
            "text/plain": [
              "<Figure size 640x480 with 1 Axes>"
            ],
            "image/png": "[encoded data removed]"
          },
          "metadata": {}
        }
      ]
    },
    {
      "cell_type": "code",
      "source": [
        "sns.countplot(x='Pos',data=df)"
      ],
      "metadata": {
        "colab": {
          "base_uri": "https://localhost:8080/",
          "height": 466
        },
        "id": "yHf20gyVhjff",
        "outputId": "2f2d3969-38e0-4029-c133-b2e1d4138f6b"
      },
      "execution_count": 17,
      "outputs": [
        {
          "output_type": "execute_result",
          "data": {
            "text/plain": [
              "<Axes: xlabel='Pos', ylabel='count'>"
            ]
          },
          "metadata": {},
          "execution_count": 17
        },
        {
          "output_type": "display_data",
          "data": {
            "text/plain": [
              "<Figure size 640x480 with 1 Axes>"
            ],
            "image/png": "[encoded data removed]"
          },
          "metadata": {}
        }
      ]
    },
    {
      "cell_type": "code",
      "source": [
        "df['BF'].mean()"
      ],
      "metadata": {
        "colab": {
          "base_uri": "https://localhost:8080/"
        },
        "id": "leL4AfYamnmp",
        "outputId": "bffa5aae-eb6e-4d70-b4af-2b6f8d0262c1"
      },
      "execution_count": 52,
      "outputs": [
        {
          "output_type": "execute_result",
          "data": {
            "text/plain": [
              "50.871212121212125"
            ]
          },
          "metadata": {},
          "execution_count": 52
        }
      ]
    },
    {
      "cell_type": "markdown",
      "source": [
        "**On an average per match he faces 50 balls,Which is Outstanding for a player at No 3**"
      ],
      "metadata": {
        "id": "LCkg-QX9my38"
      }
    },
    {
      "cell_type": "code",
      "source": [
        "df.columns"
      ],
      "metadata": {
        "colab": {
          "base_uri": "https://localhost:8080/"
        },
        "id": "EkJ9OxLniA4N",
        "outputId": "c8fd1f0a-8f35-46d3-f19d-f2156249a925"
      },
      "execution_count": 19,
      "outputs": [
        {
          "output_type": "execute_result",
          "data": {
            "text/plain": [
              "Index(['Runs', 'Mins', 'BF', '4s', '6s', 'SR', 'Pos', 'Dismissal', 'Inns',\n",
              "       'Opposition', 'Ground', 'Start Date'],\n",
              "      dtype='object')"
            ]
          },
          "metadata": {},
          "execution_count": 19
        }
      ]
    },
    {
      "cell_type": "code",
      "source": [
        "df.drop(columns=['Start Date'],axis=1,inplace=True)"
      ],
      "metadata": {
        "id": "p0_jTDcDnVay"
      },
      "execution_count": 55,
      "outputs": []
    },
    {
      "cell_type": "markdown",
      "source": [
        "#Innings Wise No of 4s and 6s score"
      ],
      "metadata": {
        "id": "_i9eaxLHoFsz"
      }
    },
    {
      "cell_type": "code",
      "source": [
        "df['Inns'].value_counts()"
      ],
      "metadata": {
        "colab": {
          "base_uri": "https://localhost:8080/"
        },
        "id": "I-nSU2QKnnJj",
        "outputId": "014aeae0-3694-491e-c5f5-7198ba1ef1a7"
      },
      "execution_count": 57,
      "outputs": [
        {
          "output_type": "execute_result",
          "data": {
            "text/plain": [
              "2    76\n",
              "1    56\n",
              "Name: Inns, dtype: int64"
            ]
          },
          "metadata": {},
          "execution_count": 57
        }
      ]
    },
    {
      "cell_type": "code",
      "source": [
        "df.groupby('Inns')['4s'].mean()"
      ],
      "metadata": {
        "colab": {
          "base_uri": "https://localhost:8080/"
        },
        "id": "J_Zq-G0vn-8d",
        "outputId": "ea1970fa-a940-4fe5-baf8-6d4adc087b4d"
      },
      "execution_count": 60,
      "outputs": [
        {
          "output_type": "execute_result",
          "data": {
            "text/plain": [
              "Inns\n",
              "1    3.500000\n",
              "2    5.013158\n",
              "Name: 4s, dtype: float64"
            ]
          },
          "metadata": {},
          "execution_count": 60
        }
      ]
    },
    {
      "cell_type": "code",
      "source": [
        "df.groupby('Inns')['6s'].mean()"
      ],
      "metadata": {
        "colab": {
          "base_uri": "https://localhost:8080/"
        },
        "id": "vj0u0JyioKIR",
        "outputId": "409c0b5e-8501-41a4-a7a3-6e235b5df453"
      },
      "execution_count": 61,
      "outputs": [
        {
          "output_type": "execute_result",
          "data": {
            "text/plain": [
              "Inns\n",
              "1    0.375000\n",
              "2    0.671053\n",
              "Name: 6s, dtype: float64"
            ]
          },
          "metadata": {},
          "execution_count": 61
        }
      ]
    },
    {
      "cell_type": "markdown",
      "source": [
        "#Innings wise Strike Rate"
      ],
      "metadata": {
        "id": "fvzmSPFrn0jN"
      }
    },
    {
      "cell_type": "code",
      "source": [
        "df.groupby('Inns')['SR'].mean()"
      ],
      "metadata": {
        "colab": {
          "base_uri": "https://localhost:8080/"
        },
        "id": "8zrWFEgMnsf-",
        "outputId": "0006ab7c-3518-440d-ff67-e2c1382f68db"
      },
      "execution_count": 58,
      "outputs": [
        {
          "output_type": "execute_result",
          "data": {
            "text/plain": [
              "Inns\n",
              "1    75.397500\n",
              "2    78.165526\n",
              "Name: SR, dtype: float64"
            ]
          },
          "metadata": {},
          "execution_count": 58
        }
      ]
    },
    {
      "cell_type": "markdown",
      "source": [
        "#Matches played venue wise"
      ],
      "metadata": {
        "id": "UjMzn-wen4XZ"
      }
    },
    {
      "cell_type": "code",
      "source": [
        "df['Ground'].value_counts()"
      ],
      "metadata": {
        "colab": {
          "base_uri": "https://localhost:8080/"
        },
        "id": "nyr1F5sMndA5",
        "outputId": "41f4021f-542f-4bd9-9d96-9a5c503e6074"
      },
      "execution_count": 56,
      "outputs": [
        {
          "output_type": "execute_result",
          "data": {
            "text/plain": [
              "Dhaka                 7\n",
              "Dambulla              6\n",
              "Colombo (RPS)         6\n",
              "Mohali                6\n",
              "Kolkata               5\n",
              "Chennai               5\n",
              "Delhi                 5\n",
              "Ahmedabad             4\n",
              "Harare                4\n",
              "Visakhapatnam         4\n",
              "Nagpur                3\n",
              "Port of Spain         3\n",
              "Dharamsala            3\n",
              "Ranchi                3\n",
              "Bengaluru             3\n",
              "Rajkot                3\n",
              "Kochi                 3\n",
              "Cuttack               3\n",
              "Sydney                3\n",
              "Jaipur                3\n",
              "Melbourne             3\n",
              "Mumbai                3\n",
              "Indore                2\n",
              "Kanpur                2\n",
              "Brisbane              2\n",
              "Hambantota            2\n",
              "Cardiff               2\n",
              "Hyderabad (Deccan)    2\n",
              "North Sound           2\n",
              "Hamilton              2\n",
              "Vadodara              2\n",
              "Kingston              2\n",
              "Pune                  2\n",
              "Johannesburg          2\n",
              "Durban                2\n",
              "Birmingham            2\n",
              "Napier                1\n",
              "Wellington            1\n",
              "Fatullah              1\n",
              "Nottingham            1\n",
              "Leeds                 1\n",
              "Perth                 1\n",
              "Southampton           1\n",
              "Pallekele             1\n",
              "Adelaide              1\n",
              "The Oval              1\n",
              "Centurion             1\n",
              "Port Elizabeth        1\n",
              "Cape Town             1\n",
              "Guwahati              1\n",
              "Bulawayo              1\n",
              "Canberra              1\n",
              "Name: Ground, dtype: int64"
            ]
          },
          "metadata": {},
          "execution_count": 56
        }
      ]
    },
    {
      "cell_type": "code",
      "source": [
        "df[df['SR']=='-']"
      ],
      "metadata": {
        "colab": {
          "base_uri": "https://localhost:8080/",
          "height": 115
        },
        "id": "fTa7866jh89b",
        "outputId": "93c74e84-fb82-433e-a962-a5459bc46d99"
      },
      "execution_count": 22,
      "outputs": [
        {
          "output_type": "execute_result",
          "data": {
            "text/plain": [
              "   Runs Mins  BF  4s  6s SR  Pos Dismissal  Inns Opposition    Ground  \\\n",
              "15    0    3   0   0   0  -    3   run out     1        ZIM  Bulawayo   \n",
              "\n",
              "   Start Date  \n",
              "15  28-May-10  "
            ],
            "text/html": [
              "\n",
              "  <div id=\"df-d2d94cd4-7a44-4ed2-a68a-23b9767d24a3\" class=\"colab-df-container\">\n",
              "    <div>\n",
              "<style scoped>\n",
              "    .dataframe tbody tr th:only-of-type {\n",
              "        vertical-align: middle;\n",
              "    }\n",
              "\n",
              "    .dataframe tbody tr th {\n",
              "        vertical-align: top;\n",
              "    }\n",
              "\n",
              "    .dataframe thead th {\n",
              "        text-align: right;\n",
              "    }\n",
              "</style>\n",
              "<table border=\"1\" class=\"dataframe\">\n",
              "  <thead>\n",
              "    <tr style=\"text-align: right;\">\n",
              "      <th></th>\n",
              "      <th>Runs</th>\n",
              "      <th>Mins</th>\n",
              "      <th>BF</th>\n",
              "      <th>4s</th>\n",
              "      <th>6s</th>\n",
              "      <th>SR</th>\n",
              "      <th>Pos</th>\n",
              "      <th>Dismissal</th>\n",
              "      <th>Inns</th>\n",
              "      <th>Opposition</th>\n",
              "      <th>Ground</th>\n",
              "      <th>Start Date</th>\n",
              "    </tr>\n",
              "  </thead>\n",
              "  <tbody>\n",
              "    <tr>\n",
              "      <th>15</th>\n",
              "      <td>0</td>\n",
              "      <td>3</td>\n",
              "      <td>0</td>\n",
              "      <td>0</td>\n",
              "      <td>0</td>\n",
              "      <td>-</td>\n",
              "      <td>3</td>\n",
              "      <td>run out</td>\n",
              "      <td>1</td>\n",
              "      <td>ZIM</td>\n",
              "      <td>Bulawayo</td>\n",
              "      <td>28-May-10</td>\n",
              "    </tr>\n",
              "  </tbody>\n",
              "</table>\n",
              "</div>\n",
              "    <div class=\"colab-df-buttons\">\n",
              "\n",
              "  <div class=\"colab-df-container\">\n",
              "    <button class=\"colab-df-convert\" onclick=\"convertToInteractive('df-d2d94cd4-7a44-4ed2-a68a-23b9767d24a3')\"\n",
              "            title=\"Convert this dataframe to an interactive table.\"\n",
              "            style=\"display:none;\">\n",
              "\n",
              "  <svg xmlns=\"http://www.w3.org/2000/svg\" height=\"24px\" viewBox=\"0 -960 960 960\">\n",
              "    <path d=\"M120-120v-720h720v720H120Zm60-500h600v-160H180v160Zm220 220h160v-160H400v160Zm0 220h160v-160H400v160ZM180-400h160v-160H180v160Zm440 0h160v-160H620v160ZM180-180h160v-160H180v160Zm440 0h160v-160H620v160Z\"/>\n",
              "  </svg>\n",
              "    </button>\n",
              "\n",
              "  <style>\n",
              "    .colab-df-container {\n",
              "      display:flex;\n",
              "      gap: 12px;\n",
              "    }\n",
              "\n",
              "    .colab-df-convert {\n",
              "      background-color: #E8F0FE;\n",
              "      border: none;\n",
              "      border-radius: 50%;\n",
              "      cursor: pointer;\n",
              "      display: none;\n",
              "      fill: #1967D2;\n",
              "      height: 32px;\n",
              "      padding: 0 0 0 0;\n",
              "      width: 32px;\n",
              "    }\n",
              "\n",
              "    .colab-df-convert:hover {\n",
              "      background-color: #E2EBFA;\n",
              "      box-shadow: 0px 1px 2px rgba(60, 64, 67, 0.3), 0px 1px 3px 1px rgba(60, 64, 67, 0.15);\n",
              "      fill: #174EA6;\n",
              "    }\n",
              "\n",
              "    .colab-df-buttons div {\n",
              "      margin-bottom: 4px;\n",
              "    }\n",
              "\n",
              "    [theme=dark] .colab-df-convert {\n",
              "      background-color: #3B4455;\n",
              "      fill: #D2E3FC;\n",
              "    }\n",
              "\n",
              "    [theme=dark] .colab-df-convert:hover {\n",
              "      background-color: #434B5C;\n",
              "      box-shadow: 0px 1px 3px 1px rgba(0, 0, 0, 0.15);\n",
              "      filter: drop-shadow(0px 1px 2px rgba(0, 0, 0, 0.3));\n",
              "      fill: #FFFFFF;\n",
              "    }\n",
              "  </style>\n",
              "\n",
              "    <script>\n",
              "      const buttonEl =\n",
              "        document.querySelector('#df-d2d94cd4-7a44-4ed2-a68a-23b9767d24a3 button.colab-df-convert');\n",
              "      buttonEl.style.display =\n",
              "        google.colab.kernel.accessAllowed ? 'block' : 'none';\n",
              "\n",
              "      async function convertToInteractive(key) {\n",
              "        const element = document.querySelector('#df-d2d94cd4-7a44-4ed2-a68a-23b9767d24a3');\n",
              "        const dataTable =\n",
              "          await google.colab.kernel.invokeFunction('convertToInteractive',\n",
              "                                                    [key], {});\n",
              "        if (!dataTable) return;\n",
              "\n",
              "        const docLinkHtml = 'Like what you see? Visit the ' +\n",
              "          '<a target=\"_blank\" href=https://colab.research.google.com/notebooks/data_table.ipynb>data table notebook</a>'\n",
              "          + ' to learn more about interactive tables.';\n",
              "        element.innerHTML = '';\n",
              "        dataTable['output_type'] = 'display_data';\n",
              "        await google.colab.output.renderOutput(dataTable, element);\n",
              "        const docLink = document.createElement('div');\n",
              "        docLink.innerHTML = docLinkHtml;\n",
              "        element.appendChild(docLink);\n",
              "      }\n",
              "    </script>\n",
              "  </div>\n",
              "\n",
              "    </div>\n",
              "  </div>\n"
            ]
          },
          "metadata": {},
          "execution_count": 22
        }
      ]
    },
    {
      "cell_type": "code",
      "source": [
        "df.at[15,'SR']=0"
      ],
      "metadata": {
        "id": "1VisFU0EiP7n"
      },
      "execution_count": 24,
      "outputs": []
    },
    {
      "cell_type": "code",
      "source": [
        "df.iloc[15,:]"
      ],
      "metadata": {
        "colab": {
          "base_uri": "https://localhost:8080/"
        },
        "id": "BFLJPrVPiXdM",
        "outputId": "db708e89-cac8-4206-9218-64327138e4d7"
      },
      "execution_count": 25,
      "outputs": [
        {
          "output_type": "execute_result",
          "data": {
            "text/plain": [
              "Runs                  0\n",
              "Mins                  3\n",
              "BF                    0\n",
              "4s                    0\n",
              "6s                    0\n",
              "SR                    0\n",
              "Pos                   3\n",
              "Dismissal       run out\n",
              "Inns                  1\n",
              "Opposition          ZIM\n",
              "Ground         Bulawayo\n",
              "Start Date    28-May-10\n",
              "Name: 15, dtype: object"
            ]
          },
          "metadata": {},
          "execution_count": 25
        }
      ]
    },
    {
      "cell_type": "code",
      "source": [
        "df['SR']=df['SR'].astype('float')"
      ],
      "metadata": {
        "id": "JMTCHEHWhrEI"
      },
      "execution_count": 26,
      "outputs": []
    },
    {
      "cell_type": "code",
      "source": [
        "df['SR'].mean()"
      ],
      "metadata": {
        "colab": {
          "base_uri": "https://localhost:8080/"
        },
        "id": "GdWbTym4i3Ub",
        "outputId": "e23547cd-4e0a-403f-f3be-ff978c4021e7"
      },
      "execution_count": 27,
      "outputs": [
        {
          "output_type": "execute_result",
          "data": {
            "text/plain": [
              "76.99121212121213"
            ]
          },
          "metadata": {},
          "execution_count": 27
        }
      ]
    },
    {
      "cell_type": "markdown",
      "source": [
        "Average Strike Rate of approximately 77 in about 260 odis hes played at position 3 most of the times does approve what kind of a player we have seen in a long time!\n",
        "**CLASS ACT**"
      ],
      "metadata": {
        "id": "MWepxwRRjAS4"
      }
    },
    {
      "cell_type": "markdown",
      "source": [
        "#Opposition Wise Analysis"
      ],
      "metadata": {
        "id": "UTkm92T1peaY"
      }
    },
    {
      "cell_type": "code",
      "source": [
        "df.columns"
      ],
      "metadata": {
        "colab": {
          "base_uri": "https://localhost:8080/"
        },
        "id": "2BE1-_ktpl6-",
        "outputId": "1cfaa310-c9f1-4e04-c9d1-8f0484b430c4"
      },
      "execution_count": 69,
      "outputs": [
        {
          "output_type": "execute_result",
          "data": {
            "text/plain": [
              "Index(['Runs', 'Mins', 'BF', '4s', '6s', 'SR', 'Pos', 'Dismissal', 'Inns',\n",
              "       'Opposition', 'Ground'],\n",
              "      dtype='object')"
            ]
          },
          "metadata": {},
          "execution_count": 69
        }
      ]
    },
    {
      "cell_type": "code",
      "source": [
        "df.groupby('Opposition')['BF'].mean()"
      ],
      "metadata": {
        "colab": {
          "base_uri": "https://localhost:8080/"
        },
        "id": "oa516PX0pnJj",
        "outputId": "268c11d6-28dd-49b7-9f8c-0d243a4cac2b"
      },
      "execution_count": 70,
      "outputs": [
        {
          "output_type": "execute_result",
          "data": {
            "text/plain": [
              "Opposition\n",
              "AUS    50.850000\n",
              "BAN    68.750000\n",
              "ENG    42.285714\n",
              "IRE    53.000000\n",
              "NED    20.000000\n",
              "NZ     62.571429\n",
              "PAK    13.000000\n",
              "SA     45.600000\n",
              "SL     52.041667\n",
              "WI     57.000000\n",
              "ZIM    48.600000\n",
              "Name: BF, dtype: float64"
            ]
          },
          "metadata": {},
          "execution_count": 70
        }
      ]
    },
    {
      "cell_type": "code",
      "source": [
        "df.groupby('Opposition')['4s'].mean()"
      ],
      "metadata": {
        "colab": {
          "base_uri": "https://localhost:8080/"
        },
        "id": "c61rqV_5pwZG",
        "outputId": "607ba5e6-57ab-464b-d2fb-a436dfd1183b"
      },
      "execution_count": 71,
      "outputs": [
        {
          "output_type": "execute_result",
          "data": {
            "text/plain": [
              "Opposition\n",
              "AUS    4.750000\n",
              "BAN    6.375000\n",
              "ENG    3.857143\n",
              "IRE    3.000000\n",
              "NED    2.000000\n",
              "NZ     5.642857\n",
              "PAK    0.500000\n",
              "SA     2.400000\n",
              "SL     4.500000\n",
              "WI     5.210526\n",
              "ZIM    4.200000\n",
              "Name: 4s, dtype: float64"
            ]
          },
          "metadata": {},
          "execution_count": 71
        }
      ]
    },
    {
      "cell_type": "code",
      "source": [
        "df.groupby('Opposition')['6s'].mean()"
      ],
      "metadata": {
        "colab": {
          "base_uri": "https://localhost:8080/"
        },
        "id": "iNPWuwGPp4FT",
        "outputId": "7316054a-83f1-4372-8ee5-207105ea00df"
      },
      "execution_count": 72,
      "outputs": [
        {
          "output_type": "execute_result",
          "data": {
            "text/plain": [
              "Opposition\n",
              "AUS    0.650000\n",
              "BAN    0.625000\n",
              "ENG    0.523810\n",
              "IRE    0.000000\n",
              "NED    0.000000\n",
              "NZ     0.928571\n",
              "PAK    0.000000\n",
              "SA     0.666667\n",
              "SL     0.375000\n",
              "WI     0.473684\n",
              "ZIM    0.400000\n",
              "Name: 6s, dtype: float64"
            ]
          },
          "metadata": {},
          "execution_count": 72
        }
      ]
    },
    {
      "cell_type": "code",
      "source": [
        "df.groupby('Opposition')['Dismissal'].value_counts()"
      ],
      "metadata": {
        "colab": {
          "base_uri": "https://localhost:8080/"
        },
        "id": "vCX5VXL5p_Wh",
        "outputId": "ef96c9de-9d5c-4bf7-d159-d85898555eaf"
      },
      "execution_count": 75,
      "outputs": [
        {
          "output_type": "execute_result",
          "data": {
            "text/plain": [
              "Opposition  Dismissal \n",
              "AUS         caught        15\n",
              "            not out        2\n",
              "            run out        2\n",
              "            lbw            1\n",
              "BAN         bowled         3\n",
              "            caught         2\n",
              "            not out        2\n",
              "            lbw            1\n",
              "ENG         caught        14\n",
              "            not out        4\n",
              "            bowled         1\n",
              "            hit wicket     1\n",
              "            lbw            1\n",
              "IRE         run out        1\n",
              "NED         bowled         1\n",
              "NZ          caught        11\n",
              "            not out        3\n",
              "PAK         caught         3\n",
              "            bowled         1\n",
              "SA          caught        12\n",
              "            run out        2\n",
              "            not out        1\n",
              "SL          caught        13\n",
              "            lbw            4\n",
              "            not out        3\n",
              "            bowled         2\n",
              "            run out        2\n",
              "WI          caught        11\n",
              "            bowled         2\n",
              "            lbw            2\n",
              "            run out        2\n",
              "            not out        1\n",
              "            stumped        1\n",
              "ZIM         caught         3\n",
              "            not out        1\n",
              "            run out        1\n",
              "Name: Dismissal, dtype: int64"
            ]
          },
          "metadata": {},
          "execution_count": 75
        }
      ]
    },
    {
      "cell_type": "code",
      "source": [
        "df.groupby('Opposition')['SR'].mean()"
      ],
      "metadata": {
        "colab": {
          "base_uri": "https://localhost:8080/"
        },
        "id": "JY5WtzB5i-9X",
        "outputId": "55151064-e9ec-49b8-a010-8cf0410b46ef"
      },
      "execution_count": 28,
      "outputs": [
        {
          "output_type": "execute_result",
          "data": {
            "text/plain": [
              "Opposition\n",
              "AUS    82.615500\n",
              "BAN    86.325000\n",
              "ENG    76.599048\n",
              "IRE    64.150000\n",
              "NED    60.000000\n",
              "NZ     80.170714\n",
              "PAK    37.670000\n",
              "SA     68.557333\n",
              "SL     78.992500\n",
              "WI     82.440526\n",
              "ZIM    64.716000\n",
              "Name: SR, dtype: float64"
            ]
          },
          "metadata": {},
          "execution_count": 28
        }
      ]
    },
    {
      "cell_type": "code",
      "source": [
        "y=df.groupby('Opposition')['SR'].mean()"
      ],
      "metadata": {
        "id": "jfZdkxOykgAE"
      },
      "execution_count": 34,
      "outputs": []
    },
    {
      "cell_type": "code",
      "source": [
        "df.groupby('Opposition')['Opposition'].value_counts()"
      ],
      "metadata": {
        "colab": {
          "base_uri": "https://localhost:8080/"
        },
        "id": "iIdH2zg_jfU3",
        "outputId": "439079e9-951d-42df-c346-b50fb8680d30"
      },
      "execution_count": 31,
      "outputs": [
        {
          "output_type": "execute_result",
          "data": {
            "text/plain": [
              "Opposition  Opposition\n",
              "AUS         AUS           20\n",
              "BAN         BAN            8\n",
              "ENG         ENG           21\n",
              "IRE         IRE            1\n",
              "NED         NED            1\n",
              "NZ          NZ            14\n",
              "PAK         PAK            4\n",
              "SA          SA            15\n",
              "SL          SL            24\n",
              "WI          WI            19\n",
              "ZIM         ZIM            5\n",
              "Name: Opposition, dtype: int64"
            ]
          },
          "metadata": {},
          "execution_count": 31
        }
      ]
    },
    {
      "cell_type": "code",
      "source": [
        "x=df.groupby('Opposition')['Opposition'].value_counts()"
      ],
      "metadata": {
        "id": "qz_4ynPXkdA-"
      },
      "execution_count": 33,
      "outputs": []
    },
    {
      "cell_type": "markdown",
      "source": [
        "so every 5 times virat has scored 4.13 times\n",
        "likewise since hes played very few matches with ireland,netherlands, we could probably infer he will score every match against these 2 opponents"
      ],
      "metadata": {
        "id": "HfkI_I89lHLy"
      }
    },
    {
      "cell_type": "code",
      "source": [
        "df.shape"
      ],
      "metadata": {
        "colab": {
          "base_uri": "https://localhost:8080/"
        },
        "id": "2RMgXn7oklbC",
        "outputId": "a351281c-a87b-44e9-f994-edfdcc0cfc6a"
      },
      "execution_count": 50,
      "outputs": [
        {
          "output_type": "execute_result",
          "data": {
            "text/plain": [
              "(132, 12)"
            ]
          },
          "metadata": {},
          "execution_count": 50
        }
      ]
    },
    {
      "cell_type": "markdown",
      "source": [
        "#GROUND-WISE Strike Rate"
      ],
      "metadata": {
        "id": "zlQoUcIxoaBn"
      }
    },
    {
      "cell_type": "code",
      "source": [
        "df.columns"
      ],
      "metadata": {
        "colab": {
          "base_uri": "https://localhost:8080/"
        },
        "id": "VH8ECRdJoYw_",
        "outputId": "e11fdd83-8edc-4eb2-b255-f3bfd3d9b25a"
      },
      "execution_count": 62,
      "outputs": [
        {
          "output_type": "execute_result",
          "data": {
            "text/plain": [
              "Index(['Runs', 'Mins', 'BF', '4s', '6s', 'SR', 'Pos', 'Dismissal', 'Inns',\n",
              "       'Opposition', 'Ground'],\n",
              "      dtype='object')"
            ]
          },
          "metadata": {},
          "execution_count": 62
        }
      ]
    },
    {
      "cell_type": "code",
      "source": [
        "df.groupby('Ground')['BF'].mean()"
      ],
      "metadata": {
        "colab": {
          "base_uri": "https://localhost:8080/"
        },
        "id": "Ki7dUps5pBe8",
        "outputId": "90e2e365-e350-427a-fff8-0eaa738e4037"
      },
      "execution_count": 67,
      "outputs": [
        {
          "output_type": "execute_result",
          "data": {
            "text/plain": [
              "Ground\n",
              "Adelaide               28.000000\n",
              "Ahmedabad              44.500000\n",
              "Bengaluru              19.333333\n",
              "Birmingham             18.500000\n",
              "Brisbane               46.000000\n",
              "Bulawayo                0.000000\n",
              "Canberra               92.000000\n",
              "Cape Town              41.000000\n",
              "Cardiff                48.000000\n",
              "Centurion               6.000000\n",
              "Chennai                62.800000\n",
              "Colombo (RPS)          56.000000\n",
              "Cuttack                10.666667\n",
              "Dambulla               32.833333\n",
              "Delhi                  45.200000\n",
              "Dhaka                  61.142857\n",
              "Dharamsala             65.333333\n",
              "Durban                 37.500000\n",
              "Fatullah              122.000000\n",
              "Guwahati              104.000000\n",
              "Hambantota             59.000000\n",
              "Hamilton               37.500000\n",
              "Harare                 60.750000\n",
              "Hyderabad (Deccan)     62.000000\n",
              "Indore                 14.500000\n",
              "Jaipur                 57.000000\n",
              "Johannesburg           34.500000\n",
              "Kanpur                 18.000000\n",
              "Kingston               62.500000\n",
              "Kochi                  47.666667\n",
              "Kolkata                51.000000\n",
              "Leeds                  21.000000\n",
              "Melbourne              55.666667\n",
              "Mohali                 51.166667\n",
              "Mumbai                 51.333333\n",
              "Nagpur                 44.666667\n",
              "Napier                111.000000\n",
              "North Sound            17.000000\n",
              "Nottingham             50.000000\n",
              "Pallekele              35.000000\n",
              "Perth                  97.000000\n",
              "Port Elizabeth         92.000000\n",
              "Port of Spain          64.666667\n",
              "Pune                   95.000000\n",
              "Rajkot                 46.666667\n",
              "Ranchi                 85.333333\n",
              "Southampton             9.000000\n",
              "Sydney                 17.000000\n",
              "The Oval               18.000000\n",
              "Vadodara               55.500000\n",
              "Visakhapatnam         105.000000\n",
              "Wellington             78.000000\n",
              "Name: BF, dtype: float64"
            ]
          },
          "metadata": {},
          "execution_count": 67
        }
      ]
    },
    {
      "cell_type": "code",
      "source": [
        "df.groupby('Ground')['SR'].mean()"
      ],
      "metadata": {
        "colab": {
          "base_uri": "https://localhost:8080/"
        },
        "id": "3NAvPjsimbGg",
        "outputId": "7a1a5685-4c6f-4c00-b651-1f390987a769"
      },
      "execution_count": 63,
      "outputs": [
        {
          "output_type": "execute_result",
          "data": {
            "text/plain": [
              "Ground\n",
              "Adelaide               64.280000\n",
              "Ahmedabad              82.755000\n",
              "Bengaluru              21.383333\n",
              "Birmingham             79.900000\n",
              "Brisbane               68.025000\n",
              "Bulawayo                0.000000\n",
              "Canberra              115.210000\n",
              "Cape Town              68.290000\n",
              "Cardiff                57.525000\n",
              "Centurion              33.330000\n",
              "Chennai                59.062000\n",
              "Colombo (RPS)          80.166667\n",
              "Cuttack               104.920000\n",
              "Dambulla               54.740000\n",
              "Delhi                  72.832000\n",
              "Dhaka                  82.732857\n",
              "Dharamsala             72.110000\n",
              "Durban                 38.570000\n",
              "Fatullah              111.470000\n",
              "Guwahati              100.960000\n",
              "Hambantota             56.900000\n",
              "Hamilton               70.000000\n",
              "Harare                 80.895000\n",
              "Hyderabad (Deccan)     72.805000\n",
              "Indore                137.875000\n",
              "Jaipur                115.786667\n",
              "Johannesburg           76.635000\n",
              "Kanpur                 83.330000\n",
              "Kingston               71.380000\n",
              "Kochi                  70.296667\n",
              "Kolkata                70.186000\n",
              "Leeds                  61.900000\n",
              "Melbourne              82.473333\n",
              "Mohali                 84.810000\n",
              "Mumbai                 91.646667\n",
              "Nagpur                 96.880000\n",
              "Napier                110.810000\n",
              "North Sound            33.330000\n",
              "Nottingham             80.000000\n",
              "Pallekele              65.710000\n",
              "Perth                  93.810000\n",
              "Port Elizabeth         94.560000\n",
              "Port of Spain          75.510000\n",
              "Pune                   93.975000\n",
              "Rajkot                 96.016667\n",
              "Ranchi                 98.666667\n",
              "Southampton           100.000000\n",
              "Sydney                 52.726667\n",
              "The Oval               38.880000\n",
              "Vadodara               81.585000\n",
              "Visakhapatnam          94.290000\n",
              "Wellington            105.120000\n",
              "Name: SR, dtype: float64"
            ]
          },
          "metadata": {},
          "execution_count": 63
        }
      ]
    },
    {
      "cell_type": "code",
      "source": [],
      "metadata": {
        "id": "CfCYlECcogyp"
      },
      "execution_count": null,
      "outputs": []
    },
    {
      "cell_type": "markdown",
      "source": [
        "Lets Create Something called\n",
        "#SCORE INDEX"
      ],
      "metadata": {
        "id": "RKGz9tPtkJJ6"
      }
    },
    {
      "cell_type": "code",
      "source": [
        "(y/x).sum()"
      ],
      "metadata": {
        "colab": {
          "base_uri": "https://localhost:8080/"
        },
        "id": "3NFNNJQAkzdU",
        "outputId": "d4a8d4ce-b913-41cd-89b3-1d58d6689c69"
      },
      "execution_count": 37,
      "outputs": [
        {
          "output_type": "execute_result",
          "data": {
            "text/plain": [
              "183.0069714127895"
            ]
          },
          "metadata": {},
          "execution_count": 37
        }
      ]
    },
    {
      "cell_type": "code",
      "source": [
        "#formula goes by score index= strike rate/Oposition(y/x)"
      ],
      "metadata": {
        "id": "3UrwEuD2juz5"
      },
      "execution_count": 32,
      "outputs": []
    },
    {
      "cell_type": "code",
      "source": [
        "y/x"
      ],
      "metadata": {
        "colab": {
          "base_uri": "https://localhost:8080/"
        },
        "id": "_jp6-2FMkiGP",
        "outputId": "726935ee-0ed7-47ae-de78-d31fa0b5fa0d"
      },
      "execution_count": 35,
      "outputs": [
        {
          "output_type": "execute_result",
          "data": {
            "text/plain": [
              "Opposition  Opposition\n",
              "AUS         AUS            4.130775\n",
              "BAN         BAN           10.790625\n",
              "ENG         ENG            3.647574\n",
              "IRE         IRE           64.150000\n",
              "NED         NED           60.000000\n",
              "NZ          NZ             5.726480\n",
              "PAK         PAK            9.417500\n",
              "SA          SA             4.570489\n",
              "SL          SL             3.291354\n",
              "WI          WI             4.338975\n",
              "ZIM         ZIM           12.943200\n",
              "dtype: float64"
            ]
          },
          "metadata": {},
          "execution_count": 35
        }
      ]
    }
  ]
}